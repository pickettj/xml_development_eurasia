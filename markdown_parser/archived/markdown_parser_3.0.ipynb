{
 "cells": [
  {
   "cell_type": "markdown",
   "metadata": {},
   "source": [
    "# Custom Markdown Parser\n",
    "\n",
    "Inputs markdown, outputs XML based on a custom schema using regex."
   ]
  },
  {
   "cell_type": "markdown",
   "metadata": {},
   "source": [
    "Next steps:\n",
    "- Code batch processing (i.e. open all files in one directory, output to another).\n",
    "- Automate transfer of process files to new directory to simplify workflow."
   ]
  },
  {
   "cell_type": "code",
   "execution_count": 2,
   "metadata": {},
   "outputs": [],
   "source": [
    "# Notes on Version 2 (From General Hanley):\n",
    "\n",
    "# Advocates transcending the \"line-by-line approach\":\n",
    "# If you give re.sub the flags=re.MULTILINE option, then ^ and $ will match the\n",
    "# beginning and end of lines, rather than the whole string. That way you\n",
    "# can do it for the whole file at once. This should in principle be faster too."
   ]
  },
  {
   "cell_type": "code",
   "execution_count": 1,
   "metadata": {},
   "outputs": [],
   "source": [
    "import re, os, os.path, shutil\n",
    "\n",
    "# custom functions:\n",
    "import parser_functions as pf"
   ]
  },
  {
   "cell_type": "markdown",
   "metadata": {},
   "source": [
    "### File Paths"
   ]
  },
  {
   "cell_type": "markdown",
   "metadata": {},
   "source": [
    "Nice [[explanation of using the os library]](https://automatetheboringstuff.com/chapter8/)."
   ]
  },
  {
   "cell_type": "code",
   "execution_count": 13,
   "metadata": {},
   "outputs": [
    {
     "name": "stdout",
     "output_type": "stream",
     "text": [
      "Files currently in input folder  /Users/enkidu/Box/Notes/Primary_Sources :\n",
      "\n",
      "['archive_docs_now_at_xml_stage_do_not_use', 'document_conversion_backlog', 'ser935.txt', 'ser936.txt']\n"
     ]
    }
   ],
   "source": [
    "# Input Folder\n",
    "hdir = os.path.expanduser('~')\n",
    "md_rel_path = \"/Box/Notes/Primary_Sources/transcription_markdown_drafting_stage1\"\n",
    "md_path = hdir + md_rel_path\n",
    "\n",
    "# Destination Folder\n",
    "xml_rel_path = r\"/Box/Notes/Primary_Sources/xml_notes_stage2/parser_depository\"\n",
    "xml_path = hdir + xml_rel_path\n",
    "\n",
    "# Folder to archive old Markdown files\n",
    "archive_rel_path = \"/Box/Notes/Primary_Sources/transcription_markdown_drafting_stage1/archive_docs_now_at_xml_stage_do_not_use\"\n",
    "archive_path = hdir + archive_rel_path\n",
    "\n",
    "print (\"Files currently in input folder \", os.path.dirname(md_path), \":\\n\")\n",
    "print(os.listdir(md_path))\n"
   ]
  },
  {
   "cell_type": "code",
   "execution_count": 11,
   "metadata": {},
   "outputs": [
    {
     "name": "stdout",
     "output_type": "stream",
     "text": [
      "Files currently in destination folder  /Users/enkidu/Box/Notes/Primary_sources/xml_notes_stage2 :\n",
      "['archived_now_at_stage3_do_not_use', 'ser179.xml', 'ser183.xml', 'ser187.xml', 'ser193.xml', 'ser212.xml', 'ser215.xml', 'ser237.xml', 'ser537.xml', 'ser560.xml', 'ser561.xml', 'ser596.xml', 'ser626.xml', 'ser706.xml', 'ser72.xml', 'ser808.xml', 'ser809.xml', 'ser811.xml', 'ser812.xml', 'ser813.xml', 'ser814.xml', 'ser815.xml', 'ser816.xml', 'ser817.xml', 'ser818.xml', 'ser842.xml', 'ser843.xml', 'ser857.xml', 'ser876.xml', 'ser877.xml', 'ser898.xml', 'ser902.xml', 'ser903.xml', 'ser904.xml', 'ser905.xml', 'ser906.xml', 'ser91.xml', 'ser929.xml', 'ser934.xml', 'ser935.xml', 'ser936.xml']\n"
     ]
    }
   ],
   "source": [
    "# Minor: note that os.path.dirname lists the name of the parent folder, not the targeted one\n",
    "print (\"Files currently in destination folder \", os.path.dirname(xml_path), \":\\n\")\n",
    "\n",
    "print(os.listdir(xml_path))"
   ]
  },
  {
   "cell_type": "markdown",
   "metadata": {},
   "source": [
    "## The Parser"
   ]
  },
  {
   "cell_type": "code",
   "execution_count": 4,
   "metadata": {},
   "outputs": [
    {
     "name": "stdout",
     "output_type": "stream",
     "text": [
      "<?xml-model href=\"../../../../../Projects/xml_development_eurasia/schemas/persian_documents_schema_basic.rnc\" type=\"application/relax-ng-compact-syntax\"?>\n",
      "    <document serial = \"935\">\n",
      "    \t\n",
      "\t<div>\n",
      "\t\n",
      "\t<!-- invocatio -->\n",
      "\t\n",
      "\t\t<lb/>هو\n",
      "\t\n",
      "\t\n",
      "\t\n",
      "\t</div>\n",
      "\t<div>\n",
      "\t\n",
      "\t\t<lb/>چودهری پرسوتم بداند چون <flag>سورجبهان</flag> آمده <flag>مستعالی</flag> شد که چودهرآی پرگنه هندوله\n",
      "\t\n",
      "\t<!-- meaning of مستعالی unclear; possibly supposed to be مستغانی or مستعانی -->\n",
      "\t>\n",
      "\t<!-- the form چودهرآی is referring to the post of Chaudhuri -->\n",
      "\t\n",
      "\t\t<lb/>بشرکت او برافع تعلق دارد الحال او در دستور چودهرأی دخل نمیدهد تمام و کمال از روی\n",
      "\t\t<lb/>ستم و تعدی خود متصرف میشود و سوای این پنجدهه که از قدیم الایام در انعام مُشار الیه مقرر است\n",
      "\t\t<lb/>از انجمله یکموضع باسم آنجیا رافع تردد نموده آبادان کرده بود شریک مسطور از راه عداوت\n",
      "\t\t<lb/>رغبت آن دهه را ویران ساخته و تمام زراعت را ضایع نموده بنابران قلمی میگردد\n",
      "\t\t<lb/>که بر تعدی وقوع اینمعنی خوب نکرده اگر بتوجه حساب ستم و تعدی بر حال مستغیث روا داشته رافع را\n",
      "\t\t<lb/>در دستور چودهرأی دخل ده و در آبادانی موضع آنجیا هیچگونه خلل نکنند و اگر سخن حسابی دارد\n",
      "\t\t<lb/>بحضور آمده خاطر نشان نماید معطل و احمال جایز ندارد تحریر فی تاریخ ۱۹ شهر محرم سنه هفت از جلوس والا\n",
      "\t\n",
      "\t\n",
      "\t\n",
      "\t</div>\n",
      "\t<div>\n",
      "\t\n",
      "\t<!-- verso -->\n",
      "\t\n",
      "\t\t<lb/>بر پروانگی بنده عقدت آیین\n",
      "\t\t<lb/>شمس الدین فقط\n",
      "    </div></document>\n"
     ]
    }
   ],
   "source": [
    "# Making sure in correct directory:\n",
    "os.chdir(md_path)\n",
    "\n",
    "# Test if it is all functioning properly:\n",
    "print (pf.parse_md(os.listdir(md_path)[2]))\n"
   ]
  },
  {
   "cell_type": "markdown",
   "metadata": {},
   "source": [
    "### Run parser on every file in the input directory, copy to output directory"
   ]
  },
  {
   "cell_type": "code",
   "execution_count": 5,
   "metadata": {},
   "outputs": [],
   "source": [
    "for filename in os.listdir(md_path):\n",
    "    if filename.endswith(\".txt\") or filename.endswith(\".md\"):\n",
    "        # Make sure in input directory\n",
    "        os.chdir(md_path)\n",
    "\n",
    "        # Export filename\n",
    "        output_file = \"ser\" + pf.serial_no(filename) + \".xml\"\n",
    "        \n",
    "        # MD parsed into XML text for output\n",
    "        output_text = pf.parse_md(filename)\n",
    "        \n",
    "        # Send file\n",
    "        with open(xml_path + \"/\" + output_file, 'w+') as fout:\n",
    "            fout.write(output_text)\n",
    "            \n",
    "        # Archived filename\n",
    "        archive_file = \"archived_no\" + pf.serial_no(filename) + \".txt\"\n",
    "                       \n",
    "        # Move active file to the archive folder\n",
    "        shutil.move(md_path + \"/\" + filename, archive_path + \"/\" + archive_file)\n",
    "       "
   ]
  },
  {
   "cell_type": "code",
   "execution_count": null,
   "metadata": {},
   "outputs": [],
   "source": []
  },
  {
   "cell_type": "code",
   "execution_count": null,
   "metadata": {},
   "outputs": [],
   "source": []
  }
 ],
 "metadata": {
  "kernelspec": {
   "display_name": "Python 3",
   "language": "python",
   "name": "python3"
  },
  "language_info": {
   "codemirror_mode": {
    "name": "ipython",
    "version": 3
   },
   "file_extension": ".py",
   "mimetype": "text/x-python",
   "name": "python",
   "nbconvert_exporter": "python",
   "pygments_lexer": "ipython3",
   "version": "3.7.4"
  }
 },
 "nbformat": 4,
 "nbformat_minor": 4
}
